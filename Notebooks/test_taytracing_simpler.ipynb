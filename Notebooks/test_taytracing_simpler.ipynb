{
 "cells": [
  {
   "cell_type": "markdown",
   "id": "544465e8-902f-4bb0-998f-791e64a7261e",
   "metadata": {},
   "source": [
    "# Test ray tracing"
   ]
  },
  {
   "cell_type": "markdown",
   "id": "2ce16f03-0e2d-4872-9f7b-b1849b300aed",
   "metadata": {},
   "source": [
    "Goal of this notebook is to use Cosmogrid simulations to test the raytracing pipeline, comparing it with theory"
   ]
  },
  {
   "cell_type": "code",
   "execution_count": 1,
   "id": "151a7fb1-4226-4bf0-9ad8-b581f5dc0cdc",
   "metadata": {
    "tags": []
   },
   "outputs": [],
   "source": [
    "%matplotlib inline\n",
    "import matplotlib.pyplot as plt\n",
    "import CMB_lensing_SBI\n",
    "from CMB_lensing_SBI.healpy_utils import *\n",
    "from CMB_lensing_SBI.PKDGRAV_utilities_scripts import *\n",
    "from CMB_lensing_SBI.Raytracing import *\n",
    "import CMB_lensing_SBI.Bornraytrace as Bornraytrace\n",
    "import os\n",
    "import healpy as hp\n",
    "import astropy\n",
    "import astropy.io.fits as fits\n",
    "from astropy import units as u\n",
    "from astropy.cosmology import FlatLambdaCDM,wCDM\n",
    "from astropy.cosmology import z_at_value\n",
    "import frogress\n",
    "import copy\n",
    "import camb\n",
    "from camb import model, initialpower\n",
    "import matplotlib.pyplot as plt\n",
    "import numpy as np\n",
    "import scipy.integrate as integrate\n",
    "from scipy.interpolate import interp1d\n",
    "import unyt\n",
    "import yaml\n",
    "from ekit import paths as path_tools\n",
    "unyt.c.convert_to_units(unyt.km / unyt.s)"
   ]
  },
  {
   "cell_type": "markdown",
   "id": "67da0a80-836f-4236-a718-cd5a755fdea3",
   "metadata": {},
   "source": [
    "# short WL pipeline"
   ]
  },
  {
   "cell_type": "code",
   "execution_count": 10,
   "id": "2b42f05b-8d00-47c4-b26f-2306a0d22ac7",
   "metadata": {
    "tags": []
   },
   "outputs": [
    {
     "name": "stdout",
     "output_type": "stream",
     "text": [
      "100.0% | [##########] | Progress: 68 / 68 | Time: 0.6s | ETA: --0sss"
     ]
    }
   ],
   "source": [
    "# setup cosmology ********************\n",
    "config = dict()\n",
    "config['H0'] =  67.36\n",
    "config['Om'] = 0.26\n",
    "config['Ob'] = 0.0493\n",
    "config['ns'] = 0.9649\n",
    "config['s8'] = 0.84\n",
    "config['nside'] = 128\n",
    "cosmology = FlatLambdaCDM(H0= config['H0'] * u.km / u.s / u.Mpc, Om0=config['Om'])\n",
    "\n",
    "\n",
    "k_tomo = dict()\n",
    "cl_ = dict()\n",
    "cl_ray = dict()\n",
    "    \n",
    "dictionary = np.load('../data/particles_{0}_nside_{1}.npy'.format(0,config['nside']),allow_pickle=True).item()\n",
    "n_particles = dictionary['particles']\n",
    "z_bin_edges = dictionary['z_edges'] \n",
    "comoving_edges = [cosmology.comoving_distance(x_) for x_ in np.array((z_bin_edges))]\n",
    "un_ = comoving_edges[0].unit\n",
    "comoving_edges = np.array([c.value for c in comoving_edges])\n",
    "comoving_edges = comoving_edges*un_\n",
    "    \n",
    "# overdensity array\n",
    "overdensity_array = []\n",
    "for i in range(len(z_bin_edges)-1):\n",
    "    overdensity_array.append(np.array(n_particles[i]/np.mean(n_particles[i])-1))\n",
    "overdensity_array = np.array(overdensity_array)\n",
    "    \n",
    "# Initialise a raytrace object -----------------\n",
    "raytrace_object = Raytracing(overdensity_array[:], cosmology, comoving_edges[:], config['nside'], NGP = False, volume_weighted = False)\n",
    "\n",
    "#Full ray tracing\n",
    "raytrace_object.raytrace_it()  \n",
    "  \n",
    "# Born Ray trace --------------\n",
    "# new approach\n",
    "kappa_lensing = np.copy(overdensity_array)*0.\n",
    "for i in frogress.bar(np.arange(2,kappa_lensing.shape[0])):\n",
    "    kappa_lensing[i-2] = Bornraytrace.raytrace(cosmology.H0, cosmology.Om0,\n",
    "                         overdensity_array=overdensity_array[:(i),:].T,\n",
    "                         a_centre=1./(1.+raytrace_object.redshifts[:i]), \n",
    "                         comoving_edges=comoving_edges[:(i+1)])\n",
    "    \n",
    "\n",
    "# old approach\n",
    "kappa_lensing_old = np.copy(overdensity_array)*0.\n",
    "for i in frogress.bar(np.arange(1,kappa_lensing.shape[0])):\n",
    "    kappa_lensing_old[i-1] = Bornraytrace.raytrace(cosmology.H0, cosmology.Om0,\n",
    "                         overdensity_array=overdensity_array[:(i),:].T,\n",
    "                         a_centre=1./(1.+raytrace_object.redshifts[:i]), \n",
    "                         comoving_edges=comoving_edges[:(i+1)],old_approach=True)\n"
   ]
  },
  {
   "cell_type": "code",
   "execution_count": 11,
   "id": "6e6c7aea-ad6a-4fee-b6d0-d1c4d562e57b",
   "metadata": {
    "tags": []
   },
   "outputs": [
    {
     "data": {
      "image/png": "[encoded data removed]",
      "text/plain": [
       "<Figure size 640x480 with 1 Axes>"
      ]
     },
     "metadata": {},
     "output_type": "display_data"
    }
   ],
   "source": [
    "%matplotlib inline\n",
    "i = 5\n",
    "\n",
    "y = hp.anafast(raytrace_object.convergence_raytrace[i])/hp.anafast(kappa_lensing[i])\n",
    "#y1 = hp.anafast(raytrace_object.convergence_raytrace[i])/hp.anafast(kappa_lensing_old[i])\n",
    "plt.plot(y)\n",
    "plt.plot(np.ones(len(y)))\n",
    "#plt.plot(y1)\n",
    "plt.ylim([0,2])\n",
    "plt.title('Ray tracing / Born')\n",
    "plt.show()"
   ]
  }
 ],
 "metadata": {
  "kernelspec": {
   "display_name": "cmb_lensing_env",
   "language": "python",
   "name": "cmb_lensing_env"
  },
  "language_info": {
   "codemirror_mode": {
    "name": "ipython",
    "version": 3
   },
   "file_extension": ".py",
   "mimetype": "text/x-python",
   "name": "python",
   "nbconvert_exporter": "python",
   "pygments_lexer": "ipython3",
   "version": "3.8.18"
  }
 },
 "nbformat": 4,
 "nbformat_minor": 5
}
